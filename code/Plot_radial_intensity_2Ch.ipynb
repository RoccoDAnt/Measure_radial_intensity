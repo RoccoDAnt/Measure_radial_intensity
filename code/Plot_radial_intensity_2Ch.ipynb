{
 "cells": [
  {
   "cell_type": "code",
   "execution_count": null,
   "id": "7dc441fb-bf42-412c-b176-9c0ad332b11b",
   "metadata": {},
   "outputs": [],
   "source": [
    "import matplotlib.pyplot as plt\n",
    "import numpy as np\n",
    "import pandas as pd\n",
    "import seaborn as sns\n",
    "import glob, os"
   ]
  },
  {
   "cell_type": "code",
   "execution_count": null,
   "id": "af384e10-82e0-4a87-aac6-99af95eaaf9d",
   "metadata": {},
   "outputs": [],
   "source": [
    "path = r'C:/Users/dantuor/Documents/Data/Projects/In_vitro_autophagosome/Data/Fig.S3/Results_2.20POPE_Plus ATP/'\n",
    "\n",
    "# get file list\n",
    "filelist=glob.glob(path + \"/*.csv\")\n",
    "df_general = pd.DataFrame()\n",
    "\n",
    "# concatenate .csv files - individual radial intensity profiles\n",
    "for file in filelist:\n",
    "    df = pd.read_csv(file)\n",
    "    df_general=pd.concat([df_general, df])\n",
    "\n",
    "# get sample names\n",
    "sample_names=df_general['Sample'].unique()\n",
    "\n",
    "# plot data of both the channels for each field of view\n",
    "for sample in sample_names:\n",
    "    df_to_plot = df_general[df_general['Sample']==sample]\n",
    "    plt.title(df_to_plot['Sample'].iloc[0])\n",
    "    sns.lineplot(x=df_to_plot.iloc[:,1], y='Intensity (a.u.)',\n",
    "                 hue=\"Ch\",\n",
    "                 data=df_to_plot,\n",
    "                palette=['Magenta','Blue'])\n",
    "    plt.hlines(np.mean(df_to_plot['Intensity (a.u.)'][df_to_plot['Ch']=='Ch00']),0, np.max(df_to_plot.iloc[:,1]), linestyles='dashed', label='MFI Ch00', color='Magenta')\n",
    "    plt.hlines(np.mean(df_to_plot['Intensity (a.u.)'][df_to_plot['Ch']=='Ch01']),0, np.max(df_to_plot.iloc[:,1]), linestyles='dashed', label='MFI Ch01', color='Blue')\n",
    "\n",
    "    #plt.ylim(0,8)\n",
    "    plt.xlim(0,10)\n",
    "    #plt.xlabel('Distance (pixel)')\n",
    "    #plt.xlabel(df_general.columns[1])\n",
    "    plt.xlabel('Distance (${\\mu}$m)')\n",
    "    plt.ylabel('Intensity (a.u.)')\n",
    "    #plt.gca().xaxis.set_major_locator(plt.MultipleLocator(1))\n",
    "    #plt.gca().yaxis.set_major_locator(plt.MultipleLocator(0.5))\n",
    "    plt.legend()\n",
    "    plt.savefig(path+'Profile_plot_'+df_to_plot['Sample'].iloc[0]+'.png', dpi=300)\n",
    "    plt.cla()"
   ]
  },
  {
   "cell_type": "code",
   "execution_count": null,
   "id": "b67877f8-99f5-4281-889a-7d7f7ad76f2c",
   "metadata": {},
   "outputs": [],
   "source": []
  }
 ],
 "metadata": {
  "kernelspec": {
   "display_name": "Python 3 (ipykernel)",
   "language": "python",
   "name": "python3"
  },
  "language_info": {
   "codemirror_mode": {
    "name": "ipython",
    "version": 3
   },
   "file_extension": ".py",
   "mimetype": "text/x-python",
   "name": "python",
   "nbconvert_exporter": "python",
   "pygments_lexer": "ipython3",
   "version": "3.9.20"
  }
 },
 "nbformat": 4,
 "nbformat_minor": 5
}
